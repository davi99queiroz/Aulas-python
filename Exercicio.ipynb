{
  "nbformat": 4,
  "nbformat_minor": 0,
  "metadata": {
    "colab": {
      "provenance": [],
      "authorship_tag": "ABX9TyNOrFdJajwME345mP/XTLzP",
      "include_colab_link": true
    },
    "kernelspec": {
      "name": "python3",
      "display_name": "Python 3"
    },
    "language_info": {
      "name": "python"
    }
  },
  "cells": [
    {
      "cell_type": "markdown",
      "metadata": {
        "id": "view-in-github",
        "colab_type": "text"
      },
      "source": [
        "<a href=\"https://colab.research.google.com/github/davi99queiroz/Aulas-python/blob/main/Exercicio.ipynb\" target=\"_parent\"><img src=\"https://colab.research.google.com/assets/colab-badge.svg\" alt=\"Open In Colab\"/></a>"
      ]
    },
    {
      "cell_type": "code",
      "execution_count": null,
      "metadata": {
        "id": "Y4eP4eTcZOwt"
      },
      "outputs": [],
      "source": [
        "notas = [4.0 , 3.5, 7.8, 9.5, 10.0, 6.8, 7.2]\n",
        "#1 - imprimir só as notas acima da média 7.0\n",
        "#2 - Imprimir as notas reprovadas(abaixo de 7.0)\n",
        "#3 - Imprimir a quantidade de notas baixa\n",
        "#4 - Imprimir a quantidade de notas altas"
      ]
    },
    {
      "cell_type": "code",
      "source": [
        "notas = [4.0 , 3.5, 7.8, 9.5, 10.0, 6.8, 7.2, 8.3, 9.1, 9.9, 2.3, 1.1, 3,4, 6.3]\n",
        "notas.sort();\n",
        "\n",
        "#1 - imprimir só as notas acima da média 7.0\n",
        "NotasAcima7 = [nota for nota in notas if nota >= 7.0]\n",
        "print(f'Notas acima de 7.0: {NotasAcima7}')\n",
        "\n",
        "#2 - Imprimir as notas reprovadas(abaixo de 7.0)\n",
        "notasReprovadas = [nota for nota in notas if nota < 7.0]\n",
        "print(f'Notas reprovadas: {notasReprovadas}')\n",
        "\n",
        "#3 - Imprimir a quantidade de notas baixa\n",
        "quantidadeNotasBaixas = sum(nota < 7.0 for nota in notas)\n",
        "print(f'Quantidade de notas baixas: {quantidadeNotasBaixas}')\n",
        "\n",
        "#4 - Imprimir a quantidade de notas altas\n",
        "quantidadeNotasAltas = sum(nota >= 7.0 for nota in notas)\n",
        "print(f'Quantidade de notas Altas: {quantidadeNotasAltas}')"
      ],
      "metadata": {
        "colab": {
          "base_uri": "https://localhost:8080/"
        },
        "id": "_TTEMUw4n06q",
        "outputId": "9406665a-2ee0-4496-e80f-b939fcb84758"
      },
      "execution_count": null,
      "outputs": [
        {
          "output_type": "stream",
          "name": "stdout",
          "text": [
            "Notas acima de 7.0: [7.2, 7.8, 8.3, 9.1, 9.5, 9.9, 10.0]\n",
            "Notas reprovadas: [1.1, 2.3, 3, 3.5, 4.0, 4, 6.3, 6.8]\n",
            "Quantidade de notas baixas: 8\n",
            "Quantidade de notas Altas: 7\n"
          ]
        }
      ]
    }
  ]
}