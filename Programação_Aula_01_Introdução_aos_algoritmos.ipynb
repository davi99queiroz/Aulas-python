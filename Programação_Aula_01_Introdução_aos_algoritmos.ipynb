{
  "nbformat": 4,
  "nbformat_minor": 0,
  "metadata": {
    "colab": {
      "provenance": [],
      "authorship_tag": "ABX9TyMoA59FBqFU0JdwnJ+OlcKO",
      "include_colab_link": true
    },
    "kernelspec": {
      "name": "python3",
      "display_name": "Python 3"
    },
    "language_info": {
      "name": "python"
    }
  },
  "cells": [
    {
      "cell_type": "markdown",
      "metadata": {
        "id": "view-in-github",
        "colab_type": "text"
      },
      "source": [
        "<a href=\"https://colab.research.google.com/github/davi99queiroz/Aulas-python/blob/main/Programa%C3%A7%C3%A3o_Aula_01_Introdu%C3%A7%C3%A3o_aos_algoritmos.ipynb\" target=\"_parent\"><img src=\"https://colab.research.google.com/assets/colab-badge.svg\" alt=\"Open In Colab\"/></a>"
      ]
    },
    {
      "cell_type": "markdown",
      "source": [
        "Aula de introdução aos algoritmos\n"
      ],
      "metadata": {
        "id": "2YG4R7x8ATZi"
      }
    },
    {
      "cell_type": "code",
      "execution_count": null,
      "metadata": {
        "colab": {
          "base_uri": "https://localhost:8080/"
        },
        "id": "w2YtUfY68a3b",
        "outputId": "8dd2ef77-f39e-4783-d269-2132ef1f9e39"
      },
      "outputs": [
        {
          "output_type": "stream",
          "name": "stdout",
          "text": [
            "Eu é Réker!\n"
          ]
        }
      ],
      "source": [
        "# Primeiro comando\n",
        "print('Eu é Réker!')"
      ]
    },
    {
      "cell_type": "code",
      "source": [
        "#Segundo comando\n",
        "print(2+3)\n",
        "print(1+3)"
      ],
      "metadata": {
        "colab": {
          "base_uri": "https://localhost:8080/"
        },
        "id": "13a-BB6hAwFb",
        "outputId": "b9a1b21b-1dfa-42bb-9868-bbed411057f9"
      },
      "execution_count": null,
      "outputs": [
        {
          "output_type": "stream",
          "name": "stdout",
          "text": [
            "5\n",
            "4\n"
          ]
        }
      ]
    },
    {
      "cell_type": "code",
      "source": [
        "# Variáveis\n",
        "nome = 'DAVI'\n",
        "print('Ola '+ nome)"
      ],
      "metadata": {
        "colab": {
          "base_uri": "https://localhost:8080/"
        },
        "id": "HO3gGqvMBrRS",
        "outputId": "ecf633a3-ff51-4a18-fa21-dd12ccb4ae78"
      },
      "execution_count": null,
      "outputs": [
        {
          "output_type": "stream",
          "name": "stdout",
          "text": [
            "Ola DAVI\n"
          ]
        }
      ]
    },
    {
      "cell_type": "code",
      "source": [
        "# Variáveis Numericas\n",
        "a = 42\n",
        "b = 10\n",
        "print (a/b)\n",
        "a = 42\n",
        "b = 10\n",
        "print (a+b)"
      ],
      "metadata": {
        "colab": {
          "base_uri": "https://localhost:8080/"
        },
        "id": "nepjDB9_CgVq",
        "outputId": "191f92da-e4da-48e3-8b09-23bb376e2987"
      },
      "execution_count": null,
      "outputs": [
        {
          "output_type": "stream",
          "name": "stdout",
          "text": [
            "4.2\n",
            "52\n"
          ]
        }
      ]
    },
    {
      "cell_type": "code",
      "source": [
        "#variáveis Numericas part 2\n",
        "nota1 = 8\n",
        "nota2 = 7\n",
        "nota3 = 5\n",
        "media = (nota1 + nota2 + nota3) / 3\n",
        "print (media)"
      ],
      "metadata": {
        "colab": {
          "base_uri": "https://localhost:8080/"
        },
        "id": "vLgcoIsqDAgh",
        "outputId": "d91827b4-73af-4481-8c95-7ac60b9d661b"
      },
      "execution_count": null,
      "outputs": [
        {
          "output_type": "stream",
          "name": "stdout",
          "text": [
            "6.666666666666667\n"
          ]
        }
      ]
    },
    {
      "cell_type": "code",
      "source": [
        "nome ='jose' #String\n",
        "preco = 12.5 # Numerica mas pertence aos reais (float ou double)\n",
        "idade = 30   # numerica mas pertence aos inteiros\n",
        "ehMaior = idade > 18 #Logica ou booleanas"
      ],
      "metadata": {
        "id": "YrAERFZWz5MX"
      },
      "execution_count": 1,
      "outputs": []
    },
    {
      "cell_type": "code",
      "source": [
        "type(nome)"
      ],
      "metadata": {
        "colab": {
          "base_uri": "https://localhost:8080/"
        },
        "id": "KagWv4qs0ovk",
        "outputId": "5b0dde85-c0d6-4421-b632-b60aa62ddb22"
      },
      "execution_count": 2,
      "outputs": [
        {
          "output_type": "execute_result",
          "data": {
            "text/plain": [
              "str"
            ]
          },
          "metadata": {},
          "execution_count": 2
        }
      ]
    },
    {
      "cell_type": "code",
      "source": [
        "type(preco)"
      ],
      "metadata": {
        "colab": {
          "base_uri": "https://localhost:8080/"
        },
        "id": "0AoOPRQr0uLc",
        "outputId": "4d8ca434-659b-4201-c3af-e5c92e79832b"
      },
      "execution_count": 3,
      "outputs": [
        {
          "output_type": "execute_result",
          "data": {
            "text/plain": [
              "float"
            ]
          },
          "metadata": {},
          "execution_count": 3
        }
      ]
    },
    {
      "cell_type": "code",
      "source": [
        "type(idade)"
      ],
      "metadata": {
        "colab": {
          "base_uri": "https://localhost:8080/"
        },
        "id": "Yz0AqopX00fy",
        "outputId": "0f3e35b6-0e1a-414f-a394-1cd5cdf01e89"
      },
      "execution_count": 4,
      "outputs": [
        {
          "output_type": "execute_result",
          "data": {
            "text/plain": [
              "int"
            ]
          },
          "metadata": {},
          "execution_count": 4
        }
      ]
    },
    {
      "cell_type": "code",
      "source": [
        "type(ehMaior)"
      ],
      "metadata": {
        "colab": {
          "base_uri": "https://localhost:8080/"
        },
        "id": "YC2Jf2qr1Q76",
        "outputId": "40808637-191a-42f1-fa00-888fdf2dbbc5"
      },
      "execution_count": 5,
      "outputs": [
        {
          "output_type": "execute_result",
          "data": {
            "text/plain": [
              "bool"
            ]
          },
          "metadata": {},
          "execution_count": 5
        }
      ]
    },
    {
      "cell_type": "markdown",
      "source": [
        "Entrada de dados no notepad\n"
      ],
      "metadata": {
        "id": "qejCsAjR1oqL"
      }
    },
    {
      "cell_type": "code",
      "source": [
        "nome = input('Digite nome do usuario:')\n",
        "print('Seja Bem-vindo ', nome)"
      ],
      "metadata": {
        "colab": {
          "base_uri": "https://localhost:8080/"
        },
        "id": "uUUeu4HI1ugy",
        "outputId": "0534c6ce-4333-4123-8479-5e5fc999586b"
      },
      "execution_count": 24,
      "outputs": [
        {
          "output_type": "stream",
          "name": "stdout",
          "text": [
            "Digite nome do usuario:Davi\n",
            "Seja Bem-vindo  Davi\n"
          ]
        }
      ]
    },
    {
      "cell_type": "code",
      "source": [
        "#transforma srt para int\n",
        "numero = int(input('Digite o numero:'))\n",
        "print(numero * 2)"
      ],
      "metadata": {
        "colab": {
          "base_uri": "https://localhost:8080/"
        },
        "id": "MsIZanOS3LIL",
        "outputId": "89cf76d7-3c97-4069-863d-78b84a61ec1f"
      },
      "execution_count": 26,
      "outputs": [
        {
          "output_type": "stream",
          "name": "stdout",
          "text": [
            "Digite o numero:2\n",
            "4\n"
          ]
        }
      ]
    },
    {
      "cell_type": "code",
      "source": [
        "numero = float(input('Digite o numero:'))\n",
        "print(numero / 2)"
      ],
      "metadata": {
        "colab": {
          "base_uri": "https://localhost:8080/"
        },
        "id": "jxxIji3B52nB",
        "outputId": "fcaf4930-81aa-40d5-abc7-fa563c5178e7"
      },
      "execution_count": 29,
      "outputs": [
        {
          "output_type": "stream",
          "name": "stdout",
          "text": [
            "Digite o numero:5\n",
            "2.5\n"
          ]
        }
      ]
    },
    {
      "cell_type": "code",
      "source": [
        "raio = int(input('Digite o raio da circunferencia:'))\n",
        "circunferebcia = 2 * 3.14 * raio\n",
        "print(circunferebcia)"
      ],
      "metadata": {
        "colab": {
          "base_uri": "https://localhost:8080/"
        },
        "id": "kfoUSSmH7HXu",
        "outputId": "265b4baf-7dc6-44d2-83ac-abd0cfa5217a"
      },
      "execution_count": 34,
      "outputs": [
        {
          "output_type": "stream",
          "name": "stdout",
          "text": [
            "Digite o raio da circunferencia:2\n",
            "12.56\n"
          ]
        }
      ]
    },
    {
      "cell_type": "code",
      "source": [
        "type(pi)"
      ],
      "metadata": {
        "colab": {
          "base_uri": "https://localhost:8080/"
        },
        "id": "I4cDy2qH7yMX",
        "outputId": "b8793bb8-96a7-47b8-f636-e4437adc61e8"
      },
      "execution_count": 32,
      "outputs": [
        {
          "output_type": "execute_result",
          "data": {
            "text/plain": [
              "float"
            ]
          },
          "metadata": {},
          "execution_count": 32
        }
      ]
    },
    {
      "cell_type": "code",
      "source": [
        "#simbolo de elevado (**)\n",
        "altura = float(input('Digite altura '))\n",
        "peso = float(input('Digite peso '))\n",
        "imc = peso / altura**2\n",
        "print('O imc é:' , imc)"
      ],
      "metadata": {
        "colab": {
          "base_uri": "https://localhost:8080/"
        },
        "id": "OezdmiuB86rN",
        "outputId": "f12ece89-157c-458b-aa06-b4cc840f7c63"
      },
      "execution_count": 41,
      "outputs": [
        {
          "output_type": "stream",
          "name": "stdout",
          "text": [
            "Digite altura 1.70\n",
            "Digite peso 80\n",
            "O imc é: 27.68166089965398\n"
          ]
        }
      ]
    },
    {
      "cell_type": "code",
      "source": [
        "temperatura = float(input('Temperatura: '))\n",
        "temperatura = temperatura + 274\n",
        "print (temperatura ,'°K')"
      ],
      "metadata": {
        "colab": {
          "base_uri": "https://localhost:8080/"
        },
        "id": "_rHW8_GA_Jf2",
        "outputId": "715d556b-edae-46cb-ce30-9bf1ad3b252f"
      },
      "execution_count": 47,
      "outputs": [
        {
          "output_type": "stream",
          "name": "stdout",
          "text": [
            "Temperatura: 100\n",
            "374.0 °K\n"
          ]
        }
      ]
    },
    {
      "cell_type": "markdown",
      "source": [
        "Estrutura de controle If e Else"
      ],
      "metadata": {
        "id": "cSfV05HPA8B0"
      }
    },
    {
      "cell_type": "code",
      "source": [
        "idade = int (input('Digite a idade:'))\n",
        "if ( idade >= 18):\n",
        "  print('Apto ao concurso')\n",
        "else:\n",
        "  print('Não está apto')"
      ],
      "metadata": {
        "colab": {
          "base_uri": "https://localhost:8080/"
        },
        "id": "vsqQWSa3BCgU",
        "outputId": "626fc20f-5062-4111-ce9f-e6bc627f7a5f"
      },
      "execution_count": 50,
      "outputs": [
        {
          "output_type": "stream",
          "name": "stdout",
          "text": [
            "Digite a idade:20\n",
            "Apto ao concurso\n"
          ]
        }
      ]
    },
    {
      "cell_type": "code",
      "source": [
        "#elif = senão/se\n",
        "numero = int(input('digite o numero: '))\n",
        "if(numero > 0):\n",
        "  print('Positivo')\n",
        "elif(numero < 0):\n",
        "  print('Negativo')\n",
        "else:\n",
        "  print('Zero')"
      ],
      "metadata": {
        "colab": {
          "base_uri": "https://localhost:8080/"
        },
        "id": "I4nQhMMkDtSs",
        "outputId": "c4506f1f-822e-41ca-ae63-eb0c399af22a"
      },
      "execution_count": 53,
      "outputs": [
        {
          "output_type": "stream",
          "name": "stdout",
          "text": [
            "digite o numero: -5\n",
            "Negativo\n"
          ]
        }
      ]
    },
    {
      "cell_type": "code",
      "source": [
        "num1 = int(input('digite o primeiro numero: '))\n",
        "num2 = int(input('digite o segundo numero: '))\n",
        "if(num1 > num2):\n",
        "  print('O primeiro numero é maior')\n",
        "elif( num2 > num1):\n",
        "  print('Segundo numero é maior')\n",
        "else:\n",
        "  print('São iguais')"
      ],
      "metadata": {
        "colab": {
          "base_uri": "https://localhost:8080/"
        },
        "id": "Kdq-c2RPFHFN",
        "outputId": "717730ed-e354-407d-a50d-e5105158f835"
      },
      "execution_count": 58,
      "outputs": [
        {
          "output_type": "stream",
          "name": "stdout",
          "text": [
            "digite o primeiro numero: 10\n",
            "digite o segundo numero: 5\n",
            "O primeiro numero é maior\n"
          ]
        }
      ]
    }
  ]
}