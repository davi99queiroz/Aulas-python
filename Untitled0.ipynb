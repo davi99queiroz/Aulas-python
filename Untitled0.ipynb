{
  "nbformat": 4,
  "nbformat_minor": 0,
  "metadata": {
    "colab": {
      "provenance": [],
      "authorship_tag": "ABX9TyMjxhGVo0CvaORvZh6jx0GT",
      "include_colab_link": true
    },
    "kernelspec": {
      "name": "python3",
      "display_name": "Python 3"
    },
    "language_info": {
      "name": "python"
    }
  },
  "cells": [
    {
      "cell_type": "markdown",
      "metadata": {
        "id": "view-in-github",
        "colab_type": "text"
      },
      "source": [
        "<a href=\"https://colab.research.google.com/github/davi99queiroz/Aulas-python/blob/main/Untitled0.ipynb\" target=\"_parent\"><img src=\"https://colab.research.google.com/assets/colab-badge.svg\" alt=\"Open In Colab\"/></a>"
      ]
    },
    {
      "cell_type": "code",
      "execution_count": 6,
      "metadata": {
        "colab": {
          "base_uri": "https://localhost:8080/"
        },
        "id": "ZeAqxA5FA1Kq",
        "outputId": "c74cba79-a4e5-4032-df3f-28250d33ef85"
      },
      "outputs": [
        {
          "output_type": "stream",
          "name": "stdout",
          "text": [
            "Digite o nome do carro: Onix\n",
            "['celta', 'gol', 'agile', 'argo', 'unoWay', 'Onix']\n"
          ]
        }
      ],
      "source": [
        "#lista\n",
        "#input pra incluir nome do carro\n",
        "Carros = ['celta', 'gol', 'agile', 'argo', 'unoWay' ]\n",
        "nome = input('Digite o nome do carro: ')\n",
        "Carros.append(nome)\n",
        "print(Carros)"
      ]
    },
    {
      "cell_type": "code",
      "source": [
        "nome = input('digite nome do carro: ')\n",
        "if nome in Carros:\n",
        "  print('Tem na lista')\n",
        "else:\n",
        "  print('Não tem na lista')"
      ],
      "metadata": {
        "colab": {
          "base_uri": "https://localhost:8080/"
        },
        "id": "oTvTHtNPDOIE",
        "outputId": "3f16b91b-6b35-4fec-aaa5-843f96e4cfa0"
      },
      "execution_count": 8,
      "outputs": [
        {
          "output_type": "stream",
          "name": "stdout",
          "text": [
            "digite nome do carro: gol\n",
            "Tem na lista\n"
          ]
        }
      ]
    },
    {
      "cell_type": "code",
      "source": [
        "\n",
        "Carros.pop()\n",
        "print(Carros)\n"
      ],
      "metadata": {
        "colab": {
          "base_uri": "https://localhost:8080/"
        },
        "id": "mYAK_E_vEDLM",
        "outputId": "7432646e-a4d4-4b08-a225-a10c686bd3a9"
      },
      "execution_count": 15,
      "outputs": [
        {
          "output_type": "stream",
          "name": "stdout",
          "text": [
            "['celta', 'gol', 'agile', 'argo', 'unoWay']\n"
          ]
        }
      ]
    },
    {
      "cell_type": "code",
      "source": [
        "#\"F\" serve para usa uma varialvel sem precisa contatena\n",
        "nome = input('digite o nome do carro para remover')\n",
        "if nome in Carros:\n",
        "  Carros.remove(nome)\n",
        "  print(f'o Carro {nome}, foi removido da lista')\n",
        "else:\n",
        "  print('Este carri não está na lista')\n",
        "\n",
        "print(Carros)"
      ],
      "metadata": {
        "id": "NV4ZfUPsFY-b"
      },
      "execution_count": null,
      "outputs": []
    },
    {
      "cell_type": "code",
      "source": [
        "produtos = ['faca' , 'colhe' , 'garfo', 'panela']"
      ],
      "metadata": {
        "id": "Tc2uAI_HMzZR"
      },
      "execution_count": 39,
      "outputs": []
    },
    {
      "cell_type": "code",
      "source": [
        "#\"for\" serve para caminha pela lista\n",
        "for produto in produtos:\n",
        "  print(produto)"
      ],
      "metadata": {
        "colab": {
          "base_uri": "https://localhost:8080/"
        },
        "id": "znyObd1dMsfS",
        "outputId": "1a38d469-7233-4541-bba9-1c4d58e8c182"
      },
      "execution_count": 33,
      "outputs": [
        {
          "output_type": "stream",
          "name": "stdout",
          "text": [
            "faca\n",
            "colhe\n",
            "garfo\n",
            "panela\n"
          ]
        }
      ]
    },
    {
      "cell_type": "code",
      "source": [
        "#tamanho de cada item\n",
        "for produto in produtos:\n",
        "  print(f' {produto} - {len(produto)}')"
      ],
      "metadata": {
        "colab": {
          "base_uri": "https://localhost:8080/"
        },
        "id": "1Mxq1diSNb6i",
        "outputId": "03614454-52e7-4761-ed18-19bdede9ef10"
      },
      "execution_count": 35,
      "outputs": [
        {
          "output_type": "stream",
          "name": "stdout",
          "text": [
            " faca - 4\n",
            " colhe - 5\n",
            " garfo - 5\n",
            " panela - 6\n"
          ]
        }
      ]
    },
    {
      "cell_type": "code",
      "source": [
        "#Imprimir apenas produtos com 6 letras ou mais\n",
        "for produto in produtos:\n",
        "  if len(produto) >= 6:\n",
        "    print(produto)"
      ],
      "metadata": {
        "colab": {
          "base_uri": "https://localhost:8080/"
        },
        "id": "LjYMALroPImS",
        "outputId": "a3889cba-308e-40a8-f5be-cc8558a02139"
      },
      "execution_count": 36,
      "outputs": [
        {
          "output_type": "stream",
          "name": "stdout",
          "text": [
            "panela\n"
          ]
        }
      ]
    },
    {
      "cell_type": "code",
      "source": [
        "nums = [23, 5, 1, 4, 3, 7]\n",
        "soma = 0\n",
        "for num in nums:\n",
        "  soma += num\n",
        "\n",
        "print(soma)"
      ],
      "metadata": {
        "colab": {
          "base_uri": "https://localhost:8080/"
        },
        "id": "tIsJV2sRRLEi",
        "outputId": "c1f44097-56ff-4947-b106-8a270c33542b"
      },
      "execution_count": 38,
      "outputs": [
        {
          "output_type": "stream",
          "name": "stdout",
          "text": [
            "43\n"
          ]
        }
      ]
    },
    {
      "cell_type": "code",
      "source": [
        "sum(nums)"
      ],
      "metadata": {
        "colab": {
          "base_uri": "https://localhost:8080/"
        },
        "id": "T_XT6WBmSLJD",
        "outputId": "f4406cab-7347-41c6-867f-5d1b8f8197b0"
      },
      "execution_count": 40,
      "outputs": [
        {
          "output_type": "execute_result",
          "data": {
            "text/plain": [
              "43"
            ]
          },
          "metadata": {},
          "execution_count": 40
        }
      ]
    },
    {
      "cell_type": "code",
      "source": [
        "# imprimir os numeros pares da lista\n",
        "for num in nums:\n",
        "  if num % 2 == 0:\n",
        "    print(num)"
      ],
      "metadata": {
        "colab": {
          "base_uri": "https://localhost:8080/"
        },
        "id": "rAs0JEAxSc2L",
        "outputId": "c383f716-8452-4c3f-8d25-dc300896c9e1"
      },
      "execution_count": 42,
      "outputs": [
        {
          "output_type": "stream",
          "name": "stdout",
          "text": [
            "4\n"
          ]
        }
      ]
    },
    {
      "cell_type": "code",
      "source": [
        "Notas = [4.0 , 3.5, 7.8, 9.5, 10.0, 6.8, 7.2]\n",
        "#1 - imprimir só as notas acima da média 7.0\n",
        "#2 - Imprimir as notas reprovadas(abaixo de 7.0)\n",
        "#3 - Imprimir a quantidade de notas baixa\n",
        "#4 - Imprimir a quantidade de notas altas"
      ],
      "metadata": {
        "id": "MU7MJmBcUOK1"
      },
      "execution_count": null,
      "outputs": []
    }
  ]
}