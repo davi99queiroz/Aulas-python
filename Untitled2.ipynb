{
  "nbformat": 4,
  "nbformat_minor": 0,
  "metadata": {
    "colab": {
      "provenance": [],
      "authorship_tag": "ABX9TyOGAM+YOrGBe7UaxromtENx",
      "include_colab_link": true
    },
    "kernelspec": {
      "name": "python3",
      "display_name": "Python 3"
    },
    "language_info": {
      "name": "python"
    }
  },
  "cells": [
    {
      "cell_type": "markdown",
      "metadata": {
        "id": "view-in-github",
        "colab_type": "text"
      },
      "source": [
        "<a href=\"https://colab.research.google.com/github/davi99queiroz/Aulas-python/blob/main/Untitled2.ipynb\" target=\"_parent\"><img src=\"https://colab.research.google.com/assets/colab-badge.svg\" alt=\"Open In Colab\"/></a>"
      ]
    },
    {
      "cell_type": "markdown",
      "source": [
        "ATIVIDADE 2"
      ],
      "metadata": {
        "id": "FPiClkz7O-Ev"
      }
    },
    {
      "cell_type": "code",
      "source": [
        "#O jogo gera um numero aleatorio entre 1 e 100;\n",
        "#No inicio o jogador é avisado (Selecione um numero entre 1 e 100)\n",
        "#A cada tentativa, se a tentativa for menor que o numero secrete, esse passara a ser o menor numero\n",
        "#Se a tentativa for maior, esse passar a ser o numero maior\n",
        "#Deve ter um contador de tentativas\n",
        "#Ganha quando o jogador acerta o numero"
      ],
      "metadata": {
        "id": "5y7I8PlHPBCI"
      },
      "execution_count": null,
      "outputs": []
    },
    {
      "cell_type": "code",
      "source": [
        "import random"
      ],
      "metadata": {
        "id": "GKI99JjWP5FW"
      },
      "execution_count": 29,
      "outputs": []
    },
    {
      "cell_type": "code",
      "source": [
        "def jogo_adivinhacao():\n",
        "    numero_secreto = random.randint(1, 100)\n",
        "    menor_numero = 1\n",
        "    maior_numero = 100\n",
        "    tentativas = 0\n",
        "    print(numero_secreto)\n",
        "    print(\"Selecione um número entre 1 e 100.\")\n",
        "\n",
        "    while True:\n",
        "        tentativa = int(input(\"Tente adivinhar o número: \"))\n",
        "        tentativas += 1\n",
        "\n",
        "        if tentativa < numero_secreto:\n",
        "            menor_numero = tentativa + 1\n",
        "            print(\"Tente um número maior.\")\n",
        "        elif tentativa > numero_secreto:\n",
        "            maior_numero = tentativa - 1\n",
        "            print(\"Tente um número menor.\")\n",
        "        else:\n",
        "            print(f\"Parabéns! Você acertou o número {numero_secreto} em {tentativas} tentativas.\")\n",
        "            break\n",
        "\n",
        "if __name__ == \"__main__\":\n",
        "    jogo_adivinhacao()"
      ],
      "metadata": {
        "colab": {
          "base_uri": "https://localhost:8080/"
        },
        "id": "8-HmhU0OP_-V",
        "outputId": "f8689d70-bd4f-4792-aaf1-fecd7f8cca5a"
      },
      "execution_count": 49,
      "outputs": [
        {
          "output_type": "stream",
          "name": "stdout",
          "text": [
            "77\n",
            "Selecione um número entre 1 e 100.\n",
            "Tente adivinhar o número: 1\n",
            "Tente um número maior.\n",
            "Tente adivinhar o número: 3\n",
            "Tente um número maior.\n",
            "Tente adivinhar o número: 99\n",
            "Tente um número menor.\n",
            "Tente adivinhar o número: 77\n",
            "Parabéns! Você acertou o número 77 em 4 tentativas.\n"
          ]
        }
      ]
    },
    {
      "cell_type": "markdown",
      "source": [
        "DOIS JOGADORES"
      ],
      "metadata": {
        "id": "X2T0dLsufzkf"
      }
    },
    {
      "cell_type": "code",
      "source": [
        "def jogo_adivinhacao():\n",
        "    print(\"Bem-vindos ao jogo da adivinhação!\")\n",
        "    jogador1 = input(\"Jogador 1, por favor, digite seu nome: \")\n",
        "    jogador2 = input(\"Jogador 2, por favor, digite seu nome: \")\n",
        "\n",
        "    numero_secreto = random.randint(1, 100)\n",
        "    menor_numero = 1\n",
        "    maior_numero = 100\n",
        "    tentativas_jogador1 = 0\n",
        "    tentativas_jogador2 = 0\n",
        "\n",
        "    print(\"Vamos começar! Cada jogador tentará adivinhar o número secreto.\")\n",
        "\n",
        "    while True:\n",
        "        # Vez do jogador 1\n",
        "        print(f\"\\n{ jogador1 }, é a sua vez!\")\n",
        "        tentativa_jogador1 = int(input(\"Tente adivinhar o número: \"))\n",
        "        tentativas_jogador1 += 1\n",
        "\n",
        "        if tentativa_jogador1 < numero_secreto:\n",
        "            menor_numero = tentativa_jogador1 + 1\n",
        "            print(\"Tente um número maior.\")\n",
        "        elif tentativa_jogador1 > numero_secreto:\n",
        "            maior_numero = tentativa_jogador1 - 1\n",
        "            print(\"Tente um número menor.\")\n",
        "        else:\n",
        "            print(f\"Parabéns, { jogador1 }! Você acertou o número { numero_secreto } em { tentativas_jogador1 } tentativas.\")\n",
        "            break\n",
        "\n",
        "        # Vez do jogador 2\n",
        "        print(f\"\\n{ jogador2 }, é a sua vez!\")\n",
        "        tentativa_jogador2 = int(input(\"Tente adivinhar o número: \"))\n",
        "        tentativas_jogador2 += 1\n",
        "\n",
        "        if tentativa_jogador2 < numero_secreto:\n",
        "            menor_numero = tentativa_jogador2 + 1\n",
        "            print(\"Tente um número maior.\")\n",
        "        elif tentativa_jogador2 > numero_secreto:\n",
        "            maior_numero = tentativa_jogador2 - 1\n",
        "            print(\"Tente um número menor.\")\n",
        "        else:\n",
        "            print(f\"Parabéns, { jogador2 }! Você acertou o número { numero_secreto } em { tentativas_jogador2 } tentativas.\")\n",
        "            break\n",
        "\n",
        "    if tentativas_jogador1 < tentativas_jogador2:\n",
        "        print(f\"\\nParabéns, { jogador1 }! Você ganhou em menos tentativas.\")\n",
        "    elif tentativas_jogador2 < tentativas_jogador1:\n",
        "        print(f\"\\nParabéns, { jogador2 }! Você ganhou em menos tentativas.\")\n",
        "    else:\n",
        "        print(\"\\nHouve um empate!\")\n",
        "\n",
        "if __name__ == \"__main__\":\n",
        "    jogo_adivinhacao()\n"
      ],
      "metadata": {
        "colab": {
          "base_uri": "https://localhost:8080/"
        },
        "id": "VmBReoX_fy6t",
        "outputId": "71ad9a5e-cef6-4a6a-9582-bc1cdf60adda"
      },
      "execution_count": 56,
      "outputs": [
        {
          "output_type": "stream",
          "name": "stdout",
          "text": [
            "Bem-vindos ao jogo da adivinhação!\n",
            "Jogador 1, por favor, digite seu nome: davi\n",
            "Jogador 2, por favor, digite seu nome: lucas\n",
            "Vamos começar! Cada jogador tentará adivinhar o número secreto.\n",
            "\n",
            "davi, é a sua vez!\n",
            "Tente adivinhar o número: 32\n",
            "Tente um número menor.\n",
            "\n",
            "lucas, é a sua vez!\n",
            "Tente adivinhar o número: 54\n",
            "Tente um número menor.\n",
            "\n",
            "davi, é a sua vez!\n",
            "Tente adivinhar o número: 12\n",
            "Tente um número menor.\n",
            "\n",
            "lucas, é a sua vez!\n",
            "Tente adivinhar o número: 65\n",
            "Tente um número menor.\n",
            "\n",
            "davi, é a sua vez!\n",
            "Tente adivinhar o número: 12\n",
            "Tente um número menor.\n",
            "\n",
            "lucas, é a sua vez!\n",
            "Tente adivinhar o número: 76\n",
            "Tente um número menor.\n",
            "\n",
            "davi, é a sua vez!\n",
            "Tente adivinhar o número: 87\n",
            "Tente um número menor.\n",
            "\n",
            "lucas, é a sua vez!\n",
            "Tente adivinhar o número: 65\n",
            "Tente um número menor.\n",
            "\n",
            "davi, é a sua vez!\n",
            "Tente adivinhar o número: 34\n",
            "Tente um número menor.\n",
            "\n",
            "lucas, é a sua vez!\n",
            "Tente adivinhar o número: 35\n",
            "Tente um número menor.\n",
            "\n",
            "davi, é a sua vez!\n",
            "Tente adivinhar o número: 36\n",
            "Tente um número menor.\n",
            "\n",
            "lucas, é a sua vez!\n",
            "Tente adivinhar o número: 37\n",
            "Tente um número menor.\n",
            "\n",
            "davi, é a sua vez!\n",
            "Tente adivinhar o número: 38\n",
            "Tente um número menor.\n",
            "\n",
            "lucas, é a sua vez!\n",
            "Tente adivinhar o número: 1\n",
            "Tente um número maior.\n",
            "\n",
            "davi, é a sua vez!\n",
            "Tente adivinhar o número: 2\n",
            "Tente um número maior.\n",
            "\n",
            "lucas, é a sua vez!\n",
            "Tente adivinhar o número: 3\n",
            "Parabéns, lucas! Você acertou o número 3 em 8 tentativas.\n",
            "\n",
            "Houve um empate!\n"
          ]
        }
      ]
    }
  ]
}